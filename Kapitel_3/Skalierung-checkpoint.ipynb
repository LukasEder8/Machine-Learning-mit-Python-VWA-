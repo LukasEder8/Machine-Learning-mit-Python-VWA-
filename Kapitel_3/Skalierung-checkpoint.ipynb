{
 "cells": [
  {
   "cell_type": "code",
   "execution_count": 38,
   "metadata": {},
   "outputs": [],
   "source": [
    "from sklearn.preprocessing import StandardScaler, Normalizer, RobustScaler, MinMaxScaler\n",
    "from sklearn.datasets import load_iris\n",
    "\n",
    "iris = load_iris()\n",
    "\n",
    "X = iris.data[: ,:2]\n",
    "y = iris.target"
   ]
  },
  {
   "cell_type": "code",
   "execution_count": 52,
   "metadata": {},
   "outputs": [
    {
     "name": "stdout",
     "output_type": "stream",
     "text": [
      "[[-0.90068117  1.03205722]\n",
      " [-1.14301691 -0.1249576 ]\n",
      " [-1.38535265  0.33784833]\n",
      " [-1.50652052  0.10644536]\n",
      " [-1.02184904  1.26346019]\n",
      " [-0.53717756  1.95766909]\n",
      " [-1.50652052  0.80065426]\n",
      " [-1.02184904  0.80065426]\n",
      " [-1.74885626 -0.35636057]\n",
      " [-1.14301691  0.10644536]]\n"
     ]
    }
   ],
   "source": [
    "# StandardScaler\n",
    "s_scaler = StandardScaler()\n",
    "X_stdskaliert = s_scaler.fit_transform(X)\n",
    "\n",
    "print(X_stdskaliert[:10])"
   ]
  },
  {
   "cell_type": "code",
   "execution_count": 56,
   "metadata": {},
   "outputs": [
    {
     "name": "stdout",
     "output_type": "stream",
     "text": [
      "[[-0.53846154  1.        ]\n",
      " [-0.69230769  0.        ]\n",
      " [-0.84615385  0.4       ]\n",
      " [-0.92307692  0.2       ]\n",
      " [-0.61538462  1.2       ]\n",
      " [-0.30769231  1.8       ]\n",
      " [-0.92307692  0.8       ]\n",
      " [-0.61538462  0.8       ]\n",
      " [-1.07692308 -0.2       ]\n",
      " [-0.69230769  0.2       ]]\n"
     ]
    }
   ],
   "source": [
    "# RobustScaler\n",
    "r_scaler = RobustScaler()\n",
    "X_robustskaliert = r_scaler.fit_transform(X)\n",
    "\n",
    "print(X_robustskaliert[:10])"
   ]
  },
  {
   "cell_type": "code",
   "execution_count": 57,
   "metadata": {},
   "outputs": [
    {
     "name": "stdout",
     "output_type": "stream",
     "text": [
      "[[0.82451335 0.5658425 ]\n",
      " [0.8528513  0.52215386]\n",
      " [0.82659925 0.56279098]\n",
      " [0.82926643 0.55885346]\n",
      " [0.81153434 0.58430473]\n",
      " [0.81067923 0.58549055]\n",
      " [0.80417614 0.59439106]\n",
      " [0.8269265  0.56231002]\n",
      " [0.8349582  0.55031336]\n",
      " [0.84507884 0.53464171]]\n"
     ]
    }
   ],
   "source": [
    "#Normalizer\n",
    "n_scaler = Normalizer()\n",
    "X_normskaliert = n_scaler.fit_transform(X)\n",
    "\n",
    "print(X_normskaliert[:10])"
   ]
  },
  {
   "cell_type": "code",
   "execution_count": 58,
   "metadata": {},
   "outputs": [
    {
     "name": "stdout",
     "output_type": "stream",
     "text": [
      "[[0.22222222 0.625     ]\n",
      " [0.16666667 0.41666667]\n",
      " [0.11111111 0.5       ]\n",
      " [0.08333333 0.45833333]\n",
      " [0.19444444 0.66666667]\n",
      " [0.30555556 0.79166667]\n",
      " [0.08333333 0.58333333]\n",
      " [0.19444444 0.58333333]\n",
      " [0.02777778 0.375     ]\n",
      " [0.16666667 0.45833333]]\n"
     ]
    }
   ],
   "source": [
    "# StandardScaler\n",
    "m_scaler = MinMaxScaler()\n",
    "X_minmaxskaliert = m_scaler.fit_transform(X)\n",
    "\n",
    "print(X_mmskaliert[:10])"
   ]
  },
  {
   "cell_type": "code",
   "execution_count": 59,
   "metadata": {},
   "outputs": [
    {
     "data": {
      "text/html": [
       "<div>\n",
       "<style>\n",
       "    .dataframe thead tr:only-child th {\n",
       "        text-align: right;\n",
       "    }\n",
       "\n",
       "    .dataframe thead th {\n",
       "        text-align: left;\n",
       "    }\n",
       "\n",
       "    .dataframe tbody tr th {\n",
       "        vertical-align: top;\n",
       "    }\n",
       "</style>\n",
       "<table border=\"1\" class=\"dataframe\">\n",
       "  <thead>\n",
       "    <tr style=\"text-align: right;\">\n",
       "      <th></th>\n",
       "      <th>1. Merkmal</th>\n",
       "      <th>MinMaxScaler</th>\n",
       "      <th>Normalizer</th>\n",
       "      <th>RobustScaler</th>\n",
       "      <th>StandardScaler</th>\n",
       "    </tr>\n",
       "  </thead>\n",
       "  <tbody>\n",
       "    <tr>\n",
       "      <th>0</th>\n",
       "      <td>5.1</td>\n",
       "      <td>0.222222</td>\n",
       "      <td>0.824513</td>\n",
       "      <td>-0.538462</td>\n",
       "      <td>-0.900681</td>\n",
       "    </tr>\n",
       "    <tr>\n",
       "      <th>1</th>\n",
       "      <td>4.9</td>\n",
       "      <td>0.166667</td>\n",
       "      <td>0.852851</td>\n",
       "      <td>-0.692308</td>\n",
       "      <td>-1.143017</td>\n",
       "    </tr>\n",
       "    <tr>\n",
       "      <th>2</th>\n",
       "      <td>4.7</td>\n",
       "      <td>0.111111</td>\n",
       "      <td>0.826599</td>\n",
       "      <td>-0.846154</td>\n",
       "      <td>-1.385353</td>\n",
       "    </tr>\n",
       "    <tr>\n",
       "      <th>3</th>\n",
       "      <td>4.6</td>\n",
       "      <td>0.083333</td>\n",
       "      <td>0.829266</td>\n",
       "      <td>-0.923077</td>\n",
       "      <td>-1.506521</td>\n",
       "    </tr>\n",
       "    <tr>\n",
       "      <th>4</th>\n",
       "      <td>5.0</td>\n",
       "      <td>0.194444</td>\n",
       "      <td>0.811534</td>\n",
       "      <td>-0.615385</td>\n",
       "      <td>-1.021849</td>\n",
       "    </tr>\n",
       "  </tbody>\n",
       "</table>\n",
       "</div>"
      ],
      "text/plain": [
       "   1. Merkmal  MinMaxScaler  Normalizer  RobustScaler  StandardScaler\n",
       "0         5.1      0.222222    0.824513     -0.538462       -0.900681\n",
       "1         4.9      0.166667    0.852851     -0.692308       -1.143017\n",
       "2         4.7      0.111111    0.826599     -0.846154       -1.385353\n",
       "3         4.6      0.083333    0.829266     -0.923077       -1.506521\n",
       "4         5.0      0.194444    0.811534     -0.615385       -1.021849"
      ]
     },
     "metadata": {},
     "output_type": "display_data"
    },
    {
     "data": {
      "text/html": [
       "<div>\n",
       "<style>\n",
       "    .dataframe thead tr:only-child th {\n",
       "        text-align: right;\n",
       "    }\n",
       "\n",
       "    .dataframe thead th {\n",
       "        text-align: left;\n",
       "    }\n",
       "\n",
       "    .dataframe tbody tr th {\n",
       "        vertical-align: top;\n",
       "    }\n",
       "</style>\n",
       "<table border=\"1\" class=\"dataframe\">\n",
       "  <thead>\n",
       "    <tr style=\"text-align: right;\">\n",
       "      <th></th>\n",
       "      <th>1. Merkmal</th>\n",
       "      <th>MinMaxScaler</th>\n",
       "      <th>Normalizer</th>\n",
       "      <th>RobustScaler</th>\n",
       "      <th>StandardScaler</th>\n",
       "    </tr>\n",
       "  </thead>\n",
       "  <tbody>\n",
       "    <tr>\n",
       "      <th>count</th>\n",
       "      <td>150.000000</td>\n",
       "      <td>150.000000</td>\n",
       "      <td>150.000000</td>\n",
       "      <td>150.000000</td>\n",
       "      <td>1.500000e+02</td>\n",
       "    </tr>\n",
       "    <tr>\n",
       "      <th>mean</th>\n",
       "      <td>5.843333</td>\n",
       "      <td>0.428704</td>\n",
       "      <td>0.880611</td>\n",
       "      <td>0.033333</td>\n",
       "      <td>-1.690315e-15</td>\n",
       "    </tr>\n",
       "    <tr>\n",
       "      <th>std</th>\n",
       "      <td>0.828066</td>\n",
       "      <td>0.230018</td>\n",
       "      <td>0.042439</td>\n",
       "      <td>0.636974</td>\n",
       "      <td>1.003350e+00</td>\n",
       "    </tr>\n",
       "    <tr>\n",
       "      <th>min</th>\n",
       "      <td>4.300000</td>\n",
       "      <td>0.000000</td>\n",
       "      <td>0.785269</td>\n",
       "      <td>-1.153846</td>\n",
       "      <td>-1.870024e+00</td>\n",
       "    </tr>\n",
       "    <tr>\n",
       "      <th>25%</th>\n",
       "      <td>5.100000</td>\n",
       "      <td>0.222222</td>\n",
       "      <td>0.840597</td>\n",
       "      <td>-0.538462</td>\n",
       "      <td>-9.006812e-01</td>\n",
       "    </tr>\n",
       "    <tr>\n",
       "      <th>50%</th>\n",
       "      <td>5.800000</td>\n",
       "      <td>0.416667</td>\n",
       "      <td>0.897260</td>\n",
       "      <td>0.000000</td>\n",
       "      <td>-5.250608e-02</td>\n",
       "    </tr>\n",
       "    <tr>\n",
       "      <th>75%</th>\n",
       "      <td>6.400000</td>\n",
       "      <td>0.583333</td>\n",
       "      <td>0.912107</td>\n",
       "      <td>0.461538</td>\n",
       "      <td>6.745011e-01</td>\n",
       "    </tr>\n",
       "    <tr>\n",
       "      <th>max</th>\n",
       "      <td>7.900000</td>\n",
       "      <td>1.000000</td>\n",
       "      <td>0.947446</td>\n",
       "      <td>1.615385</td>\n",
       "      <td>2.492019e+00</td>\n",
       "    </tr>\n",
       "  </tbody>\n",
       "</table>\n",
       "</div>"
      ],
      "text/plain": [
       "       1. Merkmal  MinMaxScaler  Normalizer  RobustScaler  StandardScaler\n",
       "count  150.000000    150.000000  150.000000    150.000000    1.500000e+02\n",
       "mean     5.843333      0.428704    0.880611      0.033333   -1.690315e-15\n",
       "std      0.828066      0.230018    0.042439      0.636974    1.003350e+00\n",
       "min      4.300000      0.000000    0.785269     -1.153846   -1.870024e+00\n",
       "25%      5.100000      0.222222    0.840597     -0.538462   -9.006812e-01\n",
       "50%      5.800000      0.416667    0.897260      0.000000   -5.250608e-02\n",
       "75%      6.400000      0.583333    0.912107      0.461538    6.745011e-01\n",
       "max      7.900000      1.000000    0.947446      1.615385    2.492019e+00"
      ]
     },
     "metadata": {},
     "output_type": "display_data"
    }
   ],
   "source": [
    "import pandas as pd\n",
    "\n",
    "df = pd.DataFrame({\"1. Merkmal\":iris.data[: ,0], \"StandardScaler\":X_stdskaliert[:, 0], \"RobustScaler\": X_robustskaliert[:,0],\n",
    "                   \"Normalizer\":X_normskaliert[:,0],\"MinMaxScaler\":X_minmaxskaliert[:,0]\n",
    "                  })\n",
    "from IPython.display import display\n",
    "display(df.head())\n",
    "display(df.describe())"
   ]
  },
  {
   "cell_type": "code",
   "execution_count": null,
   "metadata": {
    "collapsed": true
   },
   "outputs": [],
   "source": []
  },
  {
   "cell_type": "code",
   "execution_count": null,
   "metadata": {
    "collapsed": true
   },
   "outputs": [],
   "source": []
  }
 ],
 "metadata": {
  "kernelspec": {
   "display_name": "Python 3",
   "language": "python",
   "name": "python3"
  },
  "language_info": {
   "codemirror_mode": {
    "name": "ipython",
    "version": 3
   },
   "file_extension": ".py",
   "mimetype": "text/x-python",
   "name": "python",
   "nbconvert_exporter": "python",
   "pygments_lexer": "ipython3",
   "version": "3.6.2"
  }
 },
 "nbformat": 4,
 "nbformat_minor": 2
}
